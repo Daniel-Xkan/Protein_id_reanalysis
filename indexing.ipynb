{
 "cells": [
  {
   "cell_type": "code",
   "execution_count": 1,
   "id": "d34efbc5",
   "metadata": {},
   "outputs": [
    {
     "name": "stdout",
     "output_type": "stream",
     "text": [
      "Processing complete. 100.00%\n"
     ]
    }
   ],
   "source": [
    "from Bio import SeqIO\n",
    "\n",
    "# Initialize dictionaries\n",
    "prefix_dict = {}\n",
    "suffix_dict = {}\n",
    "\n",
    "# Read the FASTA file and process sequences\n",
    "file_path = \"uniprotkb_human_proteome_UP000005640_with_isoforms_2024-10-08.fasta\"\n",
    "total_sequences = sum(1 for _ in SeqIO.parse(file_path, \"fasta\"))  # Count total sequences\n",
    "processed_sequences = 0\n",
    "\n",
    "for record in SeqIO.parse(file_path, \"fasta\"):\n",
    "    sequence = str(record.seq).replace('I', 'L')\n",
    "    protein_id = record.id.split('|')[1]  # Extract protein ID\n",
    "    gene_name = record.description.split(\"GN=\")[1].split()[0] if \"GN=\" in record.description else \"Unknown\"  # Extract gene name\n",
    "\n",
    "    # Process the sequence into 4mers\n",
    "    for i in range(len(sequence) - 3):\n",
    "        kmer = sequence[i:i+4]\n",
    "\n",
    "        # Update prefix dictionary\n",
    "        if kmer not in prefix_dict:\n",
    "            prefix_dict[kmer] = []\n",
    "        prefix_dict[kmer].append((protein_id, gene_name, len(sequence) - i))\n",
    "\n",
    "        # Update suffix dictionary\n",
    "        if kmer not in suffix_dict:\n",
    "            suffix_dict[kmer] = []\n",
    "        suffix_dict[kmer].append((protein_id, gene_name, i + 4))  ## PEPTIDE\n",
    "                                                                  # 0123456\n",
    "                                                                  # prefix for PTID : 5\n",
    "                                                                  # suffix for PTID : 6\n",
    "\n",
    "    # Update progress\n",
    "    processed_sequences += 1\n",
    "    progress = (processed_sequences / total_sequences) * 100\n",
    "    print(f\"Processing progress: {progress:.2f}%\", end=\"\\r\")\n",
    "\n",
    "print(\"Processing complete.\")"
   ]
  },
  {
   "cell_type": "code",
   "execution_count": 2,
   "id": "e73cb296",
   "metadata": {},
   "outputs": [
    {
     "name": "stdout",
     "output_type": "stream",
     "text": [
      "Kmer: MDAA\n",
      "Proteins: [('A0A087WV00', 'DGKI', 4), ('A6NMZ7', 'COL6A6', 1967), ('O14901', 'KLF11', 90), ('O15085', 'ARHGEF11', 642), ('O43303', 'CCP110', 880)]\n",
      "\n",
      "Kmer: DAAG\n",
      "Proteins: [('A0A087WV00', 'DGKI', 5), ('A0A0C3SFZ9', 'FCHO1', 407), ('A6NED2', 'RCCD1', 177), ('E7EUJ1', 'LIPC', 197), ('E7EUK6', 'LIPC', 136)]\n",
      "\n",
      "Kmer: AAGR\n",
      "Proteins: [('A0A087WV00', 'DGKI', 6), ('A0A0B4J1S7', 'PTPN22', 436), ('A1L4H1', 'SSC5D', 522), ('A5YKK6', 'CNOT1', 1870), ('A6NC98', 'CCDC88B', 823)]\n",
      "\n",
      "Kmer: AGRG\n",
      "Proteins: [('A0A087WV00', 'DGKI', 7), ('A0AV96', 'RBM47', 406), ('A6NFY7', 'SDHAF1', 24), ('A7E2V4', 'ZSWIM8', 1455), ('A8MQ03', 'CYSRT1', 111)]\n",
      "\n",
      "Kmer: GRGC\n",
      "Proteins: [('A0A087WV00', 'DGKI', 8), ('A4D0S4', 'LAMB4', 1077), ('A8CG34', 'POM121C', 28), ('B2RXH2', 'KDM4E', 451), ('O60307', 'MAST3', 25)]\n",
      "\n"
     ]
    }
   ],
   "source": [
    "# Print a few examples from suffix_dict\n",
    "example_kmers = list(suffix_dict.keys())[:5]  # Get the first 5 keys (kmers)\n",
    "for kmer in example_kmers:\n",
    "    print(f\"Kmer: {kmer}\")\n",
    "    print(f\"Proteins: {suffix_dict[kmer][:5]}\")  # Print first 5 protein entries for each kmer\n",
    "    print()"
   ]
  },
  {
   "cell_type": "code",
   "execution_count": null,
   "id": "7fbb4d4c",
   "metadata": {},
   "outputs": [
    {
     "name": "stdout",
     "output_type": "stream",
     "text": [
      "Dictionaries saved to dictionaries.pkl\n"
     ]
    }
   ],
   "source": [
    "import pickle\n",
    "\n",
    "# Save the dictionaries to a file\n",
    "with open(\"Human_proteome_dictionary_I_replaced_by_L.pkl\", \"wb\") as file:\n",
    "    pickle.dump({\"prefix_dict\": prefix_dict}, file)\n",
    "\n",
    "print(\"Dictionaries saved to Human_proteome_dictionary_I_replaced_by_L.pkl\")"
   ]
  }
 ],
 "metadata": {
  "kernelspec": {
   "display_name": "Python 3",
   "language": "python",
   "name": "python3"
  },
  "language_info": {
   "codemirror_mode": {
    "name": "ipython",
    "version": 3
   },
   "file_extension": ".py",
   "mimetype": "text/x-python",
   "name": "python",
   "nbconvert_exporter": "python",
   "pygments_lexer": "ipython3",
   "version": "3.10.11"
  }
 },
 "nbformat": 4,
 "nbformat_minor": 5
}
