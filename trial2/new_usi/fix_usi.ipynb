{
 "cells": [
  {
   "cell_type": "code",
   "execution_count": 1,
   "metadata": {},
   "outputs": [
    {
     "name": "stdout",
     "output_type": "stream",
     "text": [
      "Processing complete. Output written to processed_usi.txt.\n"
     ]
    }
   ],
   "source": [
    "\n",
    "def process_usi_line(line):\n",
    "    # Split the line into parts\n",
    "    parts = line.split(':')\n",
    "    \n",
    "    # Process the scan number to remove leading zeros\n",
    "    if parts[3].startswith('scan'):\n",
    "        scan_number = parts[4].lstrip('0')  # Remove leading zeros\n",
    "        parts[4] = scan_number\n",
    "    \n",
    "    # Rejoin the parts\n",
    "    processed_line = ':'.join(parts)\n",
    "    \n",
    "    # Remove any double underscores\n",
    "    processed_line = processed_line.replace('__', '_')\n",
    "    \n",
    "    return processed_line\n",
    "\n",
    "def process_file(input_file, output_file):\n",
    "    with open(input_file, 'r') as infile, open(output_file, 'w') as outfile:\n",
    "        for line in infile:\n",
    "            line = line.strip()  # Remove any leading/trailing whitespace\n",
    "            if line:  # Skip empty lines\n",
    "                processed_line = process_usi_line(line)\n",
    "                outfile.write(processed_line + '\\n')\n",
    "\n",
    "if __name__ == \"__main__\":\n",
    "    input_file = 'all_usi.txt'\n",
    "    output_file = 'processed_usi.txt'\n",
    "    process_file(input_file, output_file)\n",
    "    print(f\"Processing complete. Output written to {output_file}.\")"
   ]
  }
 ],
 "metadata": {
  "kernelspec": {
   "display_name": "Python 3",
   "language": "python",
   "name": "python3"
  },
  "language_info": {
   "codemirror_mode": {
    "name": "ipython",
    "version": 3
   },
   "file_extension": ".py",
   "mimetype": "text/x-python",
   "name": "python",
   "nbconvert_exporter": "python",
   "pygments_lexer": "ipython3",
   "version": "3.10.11"
  }
 },
 "nbformat": 4,
 "nbformat_minor": 2
}
